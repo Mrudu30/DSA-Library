{
 "cells": [
  {
   "cell_type": "code",
   "execution_count": 35,
   "metadata": {},
   "outputs": [
    {
     "name": "stdout",
     "output_type": "stream",
     "text": [
      "Here is your input string: ()()(())\n",
      "This is the sequence of brackets: [1, 1, 2, 2, 3, 4, 4, 3]\n"
     ]
    }
   ],
   "source": [
    "#  count brackets.\n",
    "count = 0\n",
    "highest_count = 0\n",
    "no_of_brackets = []\n",
    "\n",
    "n = input('Enter a string full of brackets')\n",
    "print('Here is your input string:', n)\n",
    "\n",
    "if len(n)%2 !=0 or n[0]==')':\n",
    "    print('The brackets cannot be incomplete or start with a closing bracket.')\n",
    "else:\n",
    "    # print('The string is good to go!')\n",
    "    for i in range(len(n)):\n",
    "        if n[i] == '(':\n",
    "            if count<=highest_count:\n",
    "                count = highest_count +1\n",
    "            highest_count+=1\n",
    "            no_of_brackets.append(count)\n",
    "        else:\n",
    "            no_of_brackets.append(count)\n",
    "            while no_of_brackets.count(count) == 2:\n",
    "                count-=1\n",
    "\n",
    "    print(\"This is the sequence of brackets:\",no_of_brackets)"
   ]
  },
  {
   "cell_type": "code",
   "execution_count": null,
   "metadata": {},
   "outputs": [],
   "source": []
  }
 ],
 "metadata": {
  "kernelspec": {
   "display_name": "Python 3",
   "language": "python",
   "name": "python3"
  },
  "language_info": {
   "codemirror_mode": {
    "name": "ipython",
    "version": 3
   },
   "file_extension": ".py",
   "mimetype": "text/x-python",
   "name": "python",
   "nbconvert_exporter": "python",
   "pygments_lexer": "ipython3",
   "version": "3.12.3"
  }
 },
 "nbformat": 4,
 "nbformat_minor": 2
}
